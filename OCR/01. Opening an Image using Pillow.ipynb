{
 "cells": [
  {
   "cell_type": "markdown",
   "id": "d91e77cf",
   "metadata": {},
   "source": [
    "## Open an Image using Python with PIL (Pillow)"
   ]
  },
  {
   "cell_type": "code",
   "execution_count": 1,
   "id": "7c5a8d3d",
   "metadata": {},
   "outputs": [],
   "source": [
    "#@ IMPORTING THE DEPENDENCIES \n",
    "from PIL import Image"
   ]
  },
  {
   "cell_type": "code",
   "execution_count": 2,
   "id": "c7274215",
   "metadata": {},
   "outputs": [
    {
     "name": "stdout",
     "output_type": "stream",
     "text": [
      "<PIL.JpegImagePlugin.JpegImageFile image mode=RGB size=1200x1522 at 0x7FEC5062D870>\n"
     ]
    }
   ],
   "source": [
    "#@ LOADING THE IMAGES \n",
    "img_file = \"data/page_01.jpg\"                # Path of the Image\n",
    "img = Image.open(img_file)                   # Opening the Image\n",
    "print(img)"
   ]
  },
  {
   "cell_type": "markdown",
   "id": "570d3028",
   "metadata": {},
   "source": [
    "In the output, we can find metadata like:\n",
    "- type of the file\n",
    "- the mode of image (data)\n",
    "- size of the image \n",
    "- location of the image"
   ]
  },
  {
   "cell_type": "code",
   "execution_count": 3,
   "id": "6f8e1efc",
   "metadata": {},
   "outputs": [
    {
     "name": "stdout",
     "output_type": "stream",
     "text": [
      "(1200, 1522)\n"
     ]
    }
   ],
   "source": [
    "#@ Checking the size of image\n",
    "print(img.size)"
   ]
  },
  {
   "cell_type": "code",
   "execution_count": 4,
   "id": "0486df50",
   "metadata": {},
   "outputs": [],
   "source": [
    "#@ Displaying the image\n",
    "img.show()"
   ]
  },
  {
   "cell_type": "code",
   "execution_count": 5,
   "id": "0619c8d1",
   "metadata": {},
   "outputs": [],
   "source": [
    "#@ Rotating the angle and display the Image\n",
    "img.rotate(180).show()"
   ]
  },
  {
   "cell_type": "code",
   "execution_count": 6,
   "id": "af0eda5f",
   "metadata": {},
   "outputs": [],
   "source": [
    "#@ Saving the image\n",
    "img.save(\"temp/page_01.jpg\")"
   ]
  },
  {
   "cell_type": "markdown",
   "id": "ad2ffddf",
   "metadata": {},
   "source": [
    "**End**"
   ]
  }
 ],
 "metadata": {
  "kernelspec": {
   "display_name": "Python 3 (ipykernel)",
   "language": "python",
   "name": "python3"
  },
  "language_info": {
   "codemirror_mode": {
    "name": "ipython",
    "version": 3
   },
   "file_extension": ".py",
   "mimetype": "text/x-python",
   "name": "python",
   "nbconvert_exporter": "python",
   "pygments_lexer": "ipython3",
   "version": "3.10.6"
  }
 },
 "nbformat": 4,
 "nbformat_minor": 5
}
